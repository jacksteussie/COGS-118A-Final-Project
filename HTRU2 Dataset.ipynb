{
 "cells": [
  {
   "cell_type": "markdown",
   "metadata": {},
   "source": [
    "# HTRU2 Pulsar Dataset\n",
    "See https://archive.ics.uci.edu/ml/datasets/HTRU2 for dataset information and feature descriptions."
   ]
  },
  {
   "cell_type": "code",
   "execution_count": 1,
   "metadata": {},
   "outputs": [],
   "source": [
    "%matplotlib inline\n",
    "%config InlineBackend.figure_format = 'retina'\n",
    "\n",
    "import csv\n",
    "import numpy as np\n",
    "import pandas as pd\n",
    "import pandas_profiling\n",
    "import matplotlib.pyplot as plt\n",
    "from scipy import stats\n",
    "import pickle\n",
    "import operator\n",
    "import glob\n",
    "from scipy.io.arff import loadarff \n",
    "from scipy.stats import ttest_rel\n",
    "\n",
    "import seaborn as sns; sns.set_style('white')\n",
    "\n",
    "from sklearn.utils import resample\n",
    "from sklearn.metrics import accuracy_score, plot_confusion_matrix, f1_score, plot_roc_curve, roc_auc_score, make_scorer\n",
    "from sklearn.model_selection import KFold, GridSearchCV, RandomizedSearchCV\n",
    "from sklearn.preprocessing import StandardScaler\n",
    "from sklearn.model_selection import train_test_split\n",
    "from sklearn.linear_model import LogisticRegression\n",
    "from sklearn.svm import SVC, LinearSVC\n",
    "from sklearn.neighbors import KNeighborsClassifier\n",
    "from sklearn.tree import DecisionTreeClassifier\n",
    "from sklearn.ensemble import RandomForestClassifier\n",
    "from sklearn.ensemble import AdaBoostClassifier\n",
    "from sklearn.pipeline import Pipeline\n",
    "from sklearn.neural_network import MLPClassifier\n",
    "\n",
    "from sklearn.model_selection import cross_val_score"
   ]
  },
  {
   "cell_type": "code",
   "execution_count": 2,
   "metadata": {},
   "outputs": [
    {
     "data": {
      "text/plain": [
       "0    16259\n",
       "1     1639\n",
       "Name: class, dtype: int64"
      ]
     },
     "execution_count": 2,
     "metadata": {},
     "output_type": "execute_result"
    }
   ],
   "source": [
    "raw_data = loadarff('HTRU2/HTRU_2.arff')\n",
    "df = pd.DataFrame(raw_data[0])\n",
    "df['class'] = np.where(df['class']==b'1', 1, 0)\n",
    "df['class'].value_counts()"
   ]
  },
  {
   "cell_type": "code",
   "execution_count": 3,
   "metadata": {},
   "outputs": [
    {
     "data": {
      "text/plain": [
       "1    6000\n",
       "0    6000\n",
       "Name: class, dtype: int64"
      ]
     },
     "execution_count": 3,
     "metadata": {},
     "output_type": "execute_result"
    }
   ],
   "source": [
    "# Separate majority and minority classes\n",
    "df_majority = df[df['class']==0]\n",
    "df_minority = df[df['class']==1]\n",
    "\n",
    "# Downsample majority and minority class\n",
    "df_majority_downsampled = resample(df_majority, \n",
    "                                 replace=False,    # sample without replacement\n",
    "                                 n_samples=6000,     # to match minority class\n",
    "                                 random_state=123) # reproducible results\n",
    "\n",
    "df_minority_downsampled = resample(df_minority, \n",
    "                                 replace=True,    # sample with replacement\n",
    "                                 n_samples=6000,     # to match majority class\n",
    "                                 random_state=123) # reproducible results\n",
    " \n",
    "# Combine minority class with downsampled majority class\n",
    "df_downsampled = pd.concat([df_majority_downsampled, df_minority_downsampled])\n",
    " \n",
    "# Display new class counts\n",
    "df_downsampled['class'].value_counts()"
   ]
  },
  {
   "cell_type": "code",
   "execution_count": 4,
   "metadata": {},
   "outputs": [],
   "source": [
    "df = df_downsampled.copy()\n",
    "scaler = StandardScaler()\n",
    "X, y = df.iloc[:,0:8].to_numpy(), df.iloc[:,8].to_numpy()"
   ]
  },
  {
   "cell_type": "markdown",
   "metadata": {},
   "source": [
    "## Hyperparameter Search & Experimentation"
   ]
  },
  {
   "cell_type": "code",
   "execution_count": 5,
   "metadata": {},
   "outputs": [],
   "source": [
    "def experiment():\n",
    "    pipeline1 = Pipeline((\n",
    "    ('clf', RandomForestClassifier()),\n",
    "    ))\n",
    "\n",
    "    pipeline2 = Pipeline((\n",
    "    ('clf', KNeighborsClassifier()),\n",
    "    ))\n",
    "\n",
    "    pipeline3 = Pipeline((\n",
    "    ('clf', AdaBoostClassifier()),\n",
    "    ))\n",
    "    \n",
    "    pipeline4 = Pipeline((\n",
    "    ('clf', LogisticRegression()),\n",
    "    ))\n",
    "    \n",
    "    pipeline5 = Pipeline((\n",
    "    ('clf', MLPClassifier()),\n",
    "    ))\n",
    "    \n",
    "    # Random Forest\n",
    "    parameters1 = {\n",
    "    'clf__n_estimators': [1024],\n",
    "    'clf__max_features': [1, 2, 4, 6, 8, 12, 16, 20]\n",
    "    }\n",
    "\n",
    "    # KNN\n",
    "    parameters2 = {\n",
    "    'clf__n_neighbors': [1,5,9,13,17,21,25,29,33,37,41,45,49,53,57,61,65,69,73,77,81,85,89,93,97,101,105],\n",
    "    'clf__weights': ['uniform', 'distance']\n",
    "    }\n",
    "    \n",
    "    # AdaBoost (Boosted Decision Tree)\n",
    "    parameters3 = {\n",
    "        'clf__algorithm': ['SAMME.R'],\n",
    "        'clf__n_estimators': [2,4,8,16,32,64,128,256,512,1024,2048],\n",
    "        'clf__learning_rate': [1e-3, 1e-2, 1e-1, 1e0, 1e1, 2e1, 5e1]\n",
    "    }\n",
    "    \n",
    "    # Logistic\n",
    "    parameters4 = {\n",
    "    'clf__penalty':['l1', 'l2', None],\n",
    "    'clf__C':[1e-8, 1e-7, 1e-6, 1e-5, 1e-4, 1e-3, 1e-2, 1e-1, 0, 1e0, 1e1, 1e2, 1e3, 1e4],\n",
    "    'clf__max_iter':[5000]\n",
    "    }\n",
    "    \n",
    "    # Multi-layer Perceptron\n",
    "    parameters5 = {\n",
    "        'clf__hidden_layer_sizes':[(1,), (2,), (4,), (8,), (32,), (128,)],\n",
    "        'clf__solver':['sgd'],\n",
    "        'clf__activation':['relu'], \n",
    "        'clf__learning_rate':['constant', 'invscaling'], \n",
    "        'clf__learning_rate_init': [1e-3, 1e-2, 1e-1, 1e0],\n",
    "        'clf__max_iter': [2, 4, 8, 16, 32, 64, 128, 256, 512]\n",
    "    }\n",
    "    \n",
    "    pars = [parameters1, parameters2, parameters3, parameters4, parameters5]\n",
    "    pips = [pipeline1, pipeline2, pipeline3, pipeline4, pipeline5]\n",
    "    \n",
    "    # List of dictionaries to hold the scores of the various metrics for each type of classifier\n",
    "    best_clf_list = []\n",
    "    trial_storage = {}\n",
    "    training_storage = {}\n",
    "    \n",
    "    print(\"starting Gridsearch\")\n",
    "    for i in range(len(pars)):\n",
    "        trial_averages = []\n",
    "        train_performance = []\n",
    "        for t in range(5):\n",
    "            # split and scale data\n",
    "            X_train, X_test, y_train, y_test = train_test_split(X, y, test_size=1/6, random_state=t)\n",
    "            X_train, X_val, y_train, y_val = train_test_split(X_train, y_train, test_size=0.5, random_state=t)\n",
    "            X_train = scaler.fit_transform(X_train)\n",
    "            X_val = scaler.transform(X_val)\n",
    "            X_test = scaler.transform(X_test)\n",
    "                \n",
    "            clf = GridSearchCV(pips[i], pars[i], refit=False, n_jobs=8, cv=5, verbose=3, scoring=('accuracy', 'roc_auc', 'f1'))\n",
    "            clf = clf.fit(X_val, y_val)\n",
    "            \n",
    "            print(\"finished Gridsearch trial \" + str(t + 1) + \" classifier \" + str(i + 1))\n",
    "            print(\"\")\n",
    "            print(\"\")\n",
    "            \n",
    "            # find the best params for each metric in a given trial \n",
    "            best_index_acc = np.argmin(clf.cv_results_['rank_test_accuracy'])\n",
    "            best_params_acc = clf.cv_results_['params'][best_index_acc]\n",
    "            best_index_roc = np.argmin(clf.cv_results_['rank_test_roc_auc'])\n",
    "            best_params_roc = clf.cv_results_['params'][best_index_roc]\n",
    "            best_index_f1 = np.argmin(clf.cv_results_['rank_test_f1'])\n",
    "            best_params_f1 = clf.cv_results_['params'][best_index_f1]\n",
    "    \n",
    "            # train and test models for given metric with their corresponding best parameter settings\n",
    "            pipe = pips[i]\n",
    "            clf_acc = pipe.set_params(**best_params_acc)\n",
    "            clf_acc = clf_acc.fit(X_train, y_train)\n",
    "            clf_roc = pipe.set_params(**best_params_roc)\n",
    "            clf_roc = clf_roc.fit(X_train, y_train)\n",
    "            clf_f1 = pipe.set_params(**best_params_f1)\n",
    "            clf_f1 = clf_f1.fit(X_train, y_train)\n",
    "            \n",
    "            # get training set performance\n",
    "            train_acc = accuracy_score(y_train, clf_acc.predict(X_train))\n",
    "            train_roc = roc_auc_score(y_train, clf_roc.predict_proba(X_train)[:, 1])\n",
    "            train_f1 = f1_score(y_train, clf_f1.predict(X_train))\n",
    "            \n",
    "            train_performance.append({\n",
    "                'Model #': i + 1,\n",
    "                'average': (train_f1 + train_acc + train_roc)/3,\n",
    "                'accuracy': train_acc,\n",
    "                'roc_auc_score': train_roc,\n",
    "                'f1 score': train_f1\n",
    "            })\n",
    "            \n",
    "            # get test set performances \n",
    "            trial_acc = clf_acc.score(X_test, y_test)\n",
    "            trial_roc = roc_auc_score(y_test, clf_roc.predict_proba(X_test)[:, 1])\n",
    "            trial_f1 = f1_score(y_test, clf_f1.predict(X_test))\n",
    "            \n",
    "            # store scores and their averages in list containing averages for each trial\n",
    "            trial_averages.append({\n",
    "                'Model #': i + 1, # model number corresponds to the numbers used in pipeline above (i.e. 1 = Random Forest)\n",
    "                'average':(trial_acc + trial_roc + trial_f1) / 3,\n",
    "                'accuracy': trial_acc,\n",
    "                'roc_auc_score': trial_roc,\n",
    "                'f1_score': trial_f1\n",
    "            })\n",
    "            \n",
    "            train_performance.append({\n",
    "                'Model #': i + 1, # model number corresponds to the numbers used in pipeline above (i.e. 1 = Random Forest)\n",
    "                'average':(train_acc + train_roc + train_f1) / 3,\n",
    "                'accuracy': train_acc,\n",
    "                'roc_auc_score': train_roc,\n",
    "                'f1_score': train_f1\n",
    "            })\n",
    "            \n",
    "        # find the trial with the best average metric scores and append those scores as a dict to best clf list\n",
    "        max_average = 0\n",
    "        for trial in trial_averages:\n",
    "            if trial['average'] > max_average:\n",
    "                max_average = trial['average']\n",
    "                best_trial = trial\n",
    "\n",
    "        best_clf_list.append(best_trial)\n",
    "        training_storage[str(i + 1)]=train_performance\n",
    "        trial_storage[str(i + 1)]=trial_averages\n",
    "    \n",
    "    return best_clf_list, trial_storage, training_storage"
   ]
  },
  {
   "cell_type": "code",
   "execution_count": 6,
   "metadata": {
    "scrolled": true
   },
   "outputs": [
    {
     "name": "stdout",
     "output_type": "stream",
     "text": [
      "starting Gridsearch\n",
      "Fitting 5 folds for each of 8 candidates, totalling 40 fits\n",
      "finished Gridsearch trial 1 classifier 1\n",
      "\n",
      "\n",
      "Fitting 5 folds for each of 8 candidates, totalling 40 fits\n",
      "finished Gridsearch trial 2 classifier 1\n",
      "\n",
      "\n",
      "Fitting 5 folds for each of 8 candidates, totalling 40 fits\n",
      "finished Gridsearch trial 3 classifier 1\n",
      "\n",
      "\n",
      "Fitting 5 folds for each of 8 candidates, totalling 40 fits\n",
      "finished Gridsearch trial 4 classifier 1\n",
      "\n",
      "\n",
      "Fitting 5 folds for each of 8 candidates, totalling 40 fits\n",
      "finished Gridsearch trial 5 classifier 1\n",
      "\n",
      "\n",
      "Fitting 5 folds for each of 54 candidates, totalling 270 fits\n",
      "finished Gridsearch trial 1 classifier 2\n",
      "\n",
      "\n",
      "Fitting 5 folds for each of 54 candidates, totalling 270 fits\n",
      "finished Gridsearch trial 2 classifier 2\n",
      "\n",
      "\n",
      "Fitting 5 folds for each of 54 candidates, totalling 270 fits\n",
      "finished Gridsearch trial 3 classifier 2\n",
      "\n",
      "\n",
      "Fitting 5 folds for each of 54 candidates, totalling 270 fits\n",
      "finished Gridsearch trial 4 classifier 2\n",
      "\n",
      "\n",
      "Fitting 5 folds for each of 54 candidates, totalling 270 fits\n",
      "finished Gridsearch trial 5 classifier 2\n",
      "\n",
      "\n",
      "Fitting 5 folds for each of 77 candidates, totalling 385 fits\n",
      "finished Gridsearch trial 1 classifier 3\n",
      "\n",
      "\n",
      "Fitting 5 folds for each of 77 candidates, totalling 385 fits\n",
      "finished Gridsearch trial 2 classifier 3\n",
      "\n",
      "\n",
      "Fitting 5 folds for each of 77 candidates, totalling 385 fits\n",
      "finished Gridsearch trial 3 classifier 3\n",
      "\n",
      "\n",
      "Fitting 5 folds for each of 77 candidates, totalling 385 fits\n",
      "finished Gridsearch trial 4 classifier 3\n",
      "\n",
      "\n",
      "Fitting 5 folds for each of 77 candidates, totalling 385 fits\n",
      "finished Gridsearch trial 5 classifier 3\n",
      "\n",
      "\n",
      "Fitting 5 folds for each of 42 candidates, totalling 210 fits\n",
      "finished Gridsearch trial 1 classifier 4\n",
      "\n",
      "\n",
      "Fitting 5 folds for each of 42 candidates, totalling 210 fits\n",
      "finished Gridsearch trial 2 classifier 4\n",
      "\n",
      "\n",
      "Fitting 5 folds for each of 42 candidates, totalling 210 fits\n",
      "finished Gridsearch trial 3 classifier 4\n",
      "\n",
      "\n",
      "Fitting 5 folds for each of 42 candidates, totalling 210 fits\n",
      "finished Gridsearch trial 4 classifier 4\n",
      "\n",
      "\n",
      "Fitting 5 folds for each of 42 candidates, totalling 210 fits\n",
      "finished Gridsearch trial 5 classifier 4\n",
      "\n",
      "\n",
      "Fitting 5 folds for each of 432 candidates, totalling 2160 fits\n",
      "finished Gridsearch trial 1 classifier 5\n",
      "\n",
      "\n",
      "Fitting 5 folds for each of 432 candidates, totalling 2160 fits\n",
      "finished Gridsearch trial 2 classifier 5\n",
      "\n",
      "\n",
      "Fitting 5 folds for each of 432 candidates, totalling 2160 fits\n",
      "finished Gridsearch trial 3 classifier 5\n",
      "\n",
      "\n",
      "Fitting 5 folds for each of 432 candidates, totalling 2160 fits\n",
      "finished Gridsearch trial 4 classifier 5\n",
      "\n",
      "\n",
      "Fitting 5 folds for each of 432 candidates, totalling 2160 fits\n",
      "finished Gridsearch trial 5 classifier 5\n",
      "\n",
      "\n"
     ]
    }
   ],
   "source": [
    "%%capture --no-stdout --no-display\n",
    "best_clf_list, trial_storage, training_perf = experiment()"
   ]
  },
  {
   "cell_type": "markdown",
   "metadata": {},
   "source": [
    "## Calculating and Organizing Results"
   ]
  },
  {
   "cell_type": "code",
   "execution_count": 7,
   "metadata": {},
   "outputs": [
    {
     "name": "stdout",
     "output_type": "stream",
     "text": [
      "Best Models On Average For Test Set:\n",
      "{'Model #': 1, 'average': 0.985648124035749, 'accuracy': 0.9815, 'roc_auc_score': 0.9944090056285179, 'f1_score': 0.9810353664787289}\n",
      "{'Model #': 2, 'average': 0.9805553504954202, 'accuracy': 0.976, 'roc_auc_score': 0.9901558474046278, 'f1_score': 0.9755102040816327}\n",
      "{'Model #': 3, 'average': 0.9770331745120471, 'accuracy': 0.9695, 'roc_auc_score': 0.9928655409631019, 'f1_score': 0.9687339825730394}\n",
      "{'Model #': 4, 'average': 0.960472762341343, 'accuracy': 0.95, 'roc_auc_score': 0.9819744043142212, 'f1_score': 0.949443882709808}\n",
      "{'Model #': 5, 'average': 0.9657670237746814, 'accuracy': 0.9565, 'roc_auc_score': 0.9846297866892832, 'f1_score': 0.9561712846347608}\n",
      "\n",
      "Train Set Data\n",
      "[{'Model #': 1, 'average': 1.0, 'accuracy': 1.0, 'roc_auc_score': 1.0, 'f1 score': 1.0}, {'Model #': 1, 'average': 1.0, 'accuracy': 1.0, 'roc_auc_score': 1.0, 'f1_score': 1.0}, {'Model #': 1, 'average': 1.0, 'accuracy': 1.0, 'roc_auc_score': 1.0, 'f1 score': 1.0}, {'Model #': 1, 'average': 1.0, 'accuracy': 1.0, 'roc_auc_score': 1.0, 'f1_score': 1.0}, {'Model #': 1, 'average': 1.0, 'accuracy': 1.0, 'roc_auc_score': 0.9999999999999999, 'f1 score': 1.0}, {'Model #': 1, 'average': 1.0, 'accuracy': 1.0, 'roc_auc_score': 0.9999999999999999, 'f1_score': 1.0}, {'Model #': 1, 'average': 1.0, 'accuracy': 1.0, 'roc_auc_score': 0.9999999999999999, 'f1 score': 1.0}, {'Model #': 1, 'average': 1.0, 'accuracy': 1.0, 'roc_auc_score': 0.9999999999999999, 'f1_score': 1.0}, {'Model #': 1, 'average': 1.0, 'accuracy': 1.0, 'roc_auc_score': 1.0, 'f1 score': 1.0}, {'Model #': 1, 'average': 1.0, 'accuracy': 1.0, 'roc_auc_score': 1.0, 'f1_score': 1.0}]\n",
      "[{'Model #': 2, 'average': 1.0, 'accuracy': 1.0, 'roc_auc_score': 1.0, 'f1 score': 1.0}, {'Model #': 2, 'average': 1.0, 'accuracy': 1.0, 'roc_auc_score': 1.0, 'f1_score': 1.0}, {'Model #': 2, 'average': 1.0, 'accuracy': 1.0, 'roc_auc_score': 1.0, 'f1 score': 1.0}, {'Model #': 2, 'average': 1.0, 'accuracy': 1.0, 'roc_auc_score': 1.0, 'f1_score': 1.0}, {'Model #': 2, 'average': 1.0, 'accuracy': 1.0, 'roc_auc_score': 1.0, 'f1 score': 1.0}, {'Model #': 2, 'average': 1.0, 'accuracy': 1.0, 'roc_auc_score': 1.0, 'f1_score': 1.0}, {'Model #': 2, 'average': 1.0, 'accuracy': 1.0, 'roc_auc_score': 1.0, 'f1 score': 1.0}, {'Model #': 2, 'average': 1.0, 'accuracy': 1.0, 'roc_auc_score': 1.0, 'f1_score': 1.0}, {'Model #': 2, 'average': 1.0, 'accuracy': 1.0, 'roc_auc_score': 1.0, 'f1 score': 1.0}, {'Model #': 2, 'average': 1.0, 'accuracy': 1.0, 'roc_auc_score': 1.0, 'f1_score': 1.0}]\n",
      "[{'Model #': 3, 'average': 0.9978536525424969, 'accuracy': 0.9968, 'roc_auc_score': 0.9999583996738535, 'f1 score': 0.9968025579536371}, {'Model #': 3, 'average': 0.9978536525424969, 'accuracy': 0.9968, 'roc_auc_score': 0.9999583996738535, 'f1_score': 0.9968025579536371}, {'Model #': 3, 'average': 0.9975866125627301, 'accuracy': 0.9964, 'roc_auc_score': 0.9999627199940352, 'f1 score': 0.9963971176941553}, {'Model #': 3, 'average': 0.9975866125627301, 'accuracy': 0.9964, 'roc_auc_score': 0.9999627199940352, 'f1_score': 0.9963971176941553}, {'Model #': 3, 'average': 0.9979891596250382, 'accuracy': 0.997, 'roc_auc_score': 0.9999692799557632, 'f1 score': 0.9969981989193516}, {'Model #': 3, 'average': 0.9979891596250382, 'accuracy': 0.997, 'roc_auc_score': 0.9999692799557632, 'f1_score': 0.9969981989193516}, {'Model #': 3, 'average': 0.9975678262181606, 'accuracy': 0.9964, 'roc_auc_score': 0.9999531136909783, 'f1 score': 0.9963503649635037}, {'Model #': 3, 'average': 0.9975678262181606, 'accuracy': 0.9964, 'roc_auc_score': 0.9999531136909783, 'f1_score': 0.9963503649635037}, {'Model #': 3, 'average': 0.995702767845874, 'accuracy': 0.9936, 'roc_auc_score': 0.9999185599478784, 'f1 score': 0.9935897435897436}, {'Model #': 3, 'average': 0.995702767845874, 'accuracy': 0.9936, 'roc_auc_score': 0.9999185599478784, 'f1_score': 0.9935897435897436}]\n",
      "[{'Model #': 4, 'average': 0.9534485904479814, 'accuracy': 0.9428, 'roc_auc_score': 0.9764177351150433, 'f1 score': 0.9411280362289007}, {'Model #': 4, 'average': 0.9534485904479814, 'accuracy': 0.9428, 'roc_auc_score': 0.9764177351150433, 'f1_score': 0.9411280362289007}, {'Model #': 4, 'average': 0.953048929015495, 'accuracy': 0.9428, 'roc_auc_score': 0.9756091160974585, 'f1 score': 0.940737670949026}, {'Model #': 4, 'average': 0.9530489290154948, 'accuracy': 0.9428, 'roc_auc_score': 0.9756091160974585, 'f1_score': 0.940737670949026}, {'Model #': 4, 'average': 0.9554394460119063, 'accuracy': 0.9454, 'roc_auc_score': 0.9772650872617256, 'f1 score': 0.9436532507739938}, {'Model #': 4, 'average': 0.9554394460119066, 'accuracy': 0.9454, 'roc_auc_score': 0.9772650872617256, 'f1_score': 0.9436532507739938}, {'Model #': 4, 'average': 0.9528958494569627, 'accuracy': 0.9418, 'roc_auc_score': 0.9779322305609444, 'f1 score': 0.9389553178099435}, {'Model #': 4, 'average': 0.9528958494569627, 'accuracy': 0.9418, 'roc_auc_score': 0.9779322305609444, 'f1_score': 0.9389553178099435}, {'Model #': 4, 'average': 0.9522701525724996, 'accuracy': 0.942, 'roc_auc_score': 0.9749265439529881, 'f1 score': 0.9398839137645107}, {'Model #': 4, 'average': 0.9522701525724996, 'accuracy': 0.942, 'roc_auc_score': 0.9749265439529881, 'f1_score': 0.9398839137645107}]\n",
      "[{'Model #': 5, 'average': 0.9591559820342345, 'accuracy': 0.9486, 'roc_auc_score': 0.9816942564829708, 'f1 score': 0.9471736896197328}, {'Model #': 5, 'average': 0.9591559820342345, 'accuracy': 0.9486, 'roc_auc_score': 0.9816942564829708, 'f1_score': 0.9471736896197328}, {'Model #': 5, 'average': 0.9577066357573972, 'accuracy': 0.9466, 'roc_auc_score': 0.9814468770315004, 'f1 score': 0.9450730302406912}, {'Model #': 5, 'average': 0.9577066357573972, 'accuracy': 0.9466, 'roc_auc_score': 0.9814468770315004, 'f1_score': 0.9450730302406912}, {'Model #': 5, 'average': 0.9623856962903033, 'accuracy': 0.9516, 'roc_auc_score': 0.9848041381179589, 'f1 score': 0.9507529507529509}, {'Model #': 5, 'average': 0.9623856962903033, 'accuracy': 0.9516, 'roc_auc_score': 0.9848041381179589, 'f1_score': 0.9507529507529509}, {'Model #': 5, 'average': 0.960378713120653, 'accuracy': 0.9482, 'roc_auc_score': 0.9861298136277217, 'f1 score': 0.9468063257342371}, {'Model #': 5, 'average': 0.9603787131206528, 'accuracy': 0.9482, 'roc_auc_score': 0.9861298136277217, 'f1_score': 0.9468063257342371}, {'Model #': 5, 'average': 0.9557201629625229, 'accuracy': 0.9428, 'roc_auc_score': 0.9827516689610681, 'f1 score': 0.9416088199265007}, {'Model #': 5, 'average': 0.9557201629625229, 'accuracy': 0.9428, 'roc_auc_score': 0.9827516689610681, 'f1_score': 0.9416088199265007}]\n",
      "\n",
      "set of averages of algorithms over 5 trials:\n",
      "{'1': [0.984837386263412, 0.983515278023449, 0.985648124035749, 0.9824066698220754, 0.9827570359987039], '2': [0.9796630605923798, 0.9769882343551988, 0.9805553504954202, 0.974886854446145, 0.9748550021501564], '3': [0.9757174427339321, 0.9718470281412918, 0.9770331745120471, 0.9745478760807735, 0.9743968466116134], '4': [0.960472762341343, 0.9565565471331917, 0.950397834139426, 0.9539998668273991, 0.9570629911475995], '5': [0.9657670237746814, 0.9589732947290605, 0.9573872507852422, 0.9570526344734825, 0.9596680077282943]}\n",
      "\n",
      "set of acc values of algorithms over 5 trials\n",
      "{'1': [0.979, 0.9785, 0.9815, 0.9765, 0.977], '2': [0.9725, 0.97, 0.976, 0.968, 0.9665], '3': [0.968, 0.963, 0.9695, 0.966, 0.9655], '4': [0.95, 0.947, 0.9405, 0.9445, 0.946], '5': [0.9565, 0.9475, 0.947, 0.9455, 0.9475]}\n",
      "\n",
      "set of roc values of algorithms over 5 trials\n",
      "{'1': [0.9961814501288185, 0.9945001421643419, 0.9944090056285179, 0.994662953938972, 0.9944099409940994], '2': [0.9933840473028117, 0.991702407983629, 0.9901558474046278, 0.9891478729831047, 0.9916826682668267], '3': [0.9907416668000194, 0.9910426452979646, 0.9928655409631019, 0.992091449924185, 0.9924512451245125], '4': [0.9819744043142212, 0.9793541333781851, 0.9739577235772358, 0.975645226464387, 0.980974097409741], '5': [0.9846297866892832, 0.9851228019590648, 0.9808340212632896, 0.981872446999612, 0.9847224722472248]}\n",
      "\n",
      "set of f1 values of algorithms over 5 trials\n",
      "{'1': [0.9793307086614172, 0.9775456919060052, 0.9810353664787289, 0.9760570555272542, 0.9768611670020121], '2': [0.9731051344743277, 0.9692622950819672, 0.9755102040816327, 0.9675126903553299, 0.9663823381836427], '3': [0.968410661401777, 0.9614984391259105, 0.9687339825730394, 0.9655521783181358, 0.9652392947103275], '4': [0.949443882709808, 0.9433155080213904, 0.9367357788410421, 0.9418543740178104, 0.9442148760330578], '5': [0.9561712846347608, 0.9442970822281167, 0.9443277310924371, 0.9437854564208354, 0.9467815509376584]}\n"
     ]
    }
   ],
   "source": [
    "print('Best Models On Average For Test Set:')\n",
    "for element in best_clf_list:\n",
    "    print(element)\n",
    "\n",
    "print()\n",
    "\n",
    "print('Train Set Data')\n",
    "for i in range(len(training_perf)):\n",
    "    print(training_perf[str(i + 1)])\n",
    "\n",
    "print()\n",
    "\n",
    "alg_avg = {}\n",
    "alg_acc = {}\n",
    "alg_roc = {}\n",
    "alg_f1 = {}\n",
    "\n",
    "for i in range(len(trial_storage)):\n",
    "    alg_avg[str(i + 1)]=[]\n",
    "    alg_acc[str(i + 1)]=[]\n",
    "    alg_roc[str(i + 1)]=[]\n",
    "    alg_f1[str(i + 1)]=[]\n",
    "    for entry in trial_storage[str(i + 1)]:\n",
    "        alg_avg[str(i + 1)].append(entry['average'])\n",
    "        alg_acc[str(i + 1)].append(entry['accuracy'])\n",
    "        alg_roc[str(i + 1)].append(entry['roc_auc_score'])\n",
    "        alg_f1[str(i + 1)].append(entry['f1_score'])\n",
    "\n",
    "print('set of averages of algorithms over 5 trials:')\n",
    "print(alg_avg)\n",
    "print()\n",
    "print('set of acc values of algorithms over 5 trials')\n",
    "print(alg_acc)\n",
    "print()\n",
    "print('set of roc values of algorithms over 5 trials')\n",
    "print(alg_roc)\n",
    "print()\n",
    "print('set of f1 values of algorithms over 5 trials')\n",
    "print(alg_f1)"
   ]
  },
  {
   "cell_type": "code",
   "execution_count": 8,
   "metadata": {},
   "outputs": [
    {
     "name": "stdout",
     "output_type": "stream",
     "text": [
      "{'1': 0.9785, '2': 0.9705999999999999, '3': 0.9664000000000001, '4': 0.9456, '5': 0.9488}\n"
     ]
    }
   ],
   "source": [
    "# calculate average acc metric scores per algorithm over 5 trials\n",
    "alg_acc_averages = {}\n",
    "for i in range(len(alg_acc)):\n",
    "    alg_acc_averages[str(i + 1)] = sum(alg_acc[str(i + 1)])/5\n",
    "\n",
    "print(alg_acc_averages)"
   ]
  },
  {
   "cell_type": "code",
   "execution_count": 9,
   "metadata": {},
   "outputs": [
    {
     "name": "stdout",
     "output_type": "stream",
     "text": [
      "{'1': 0.9948326985709499, '2': 0.9912145687881999, '3': 0.9918385096219566, '4': 0.9783811170287539, '5': 0.983436305831695}\n"
     ]
    }
   ],
   "source": [
    "# calculate average roc metric scores per algorithm over 5 trials\n",
    "alg_roc_averages = {}\n",
    "for i in range(len(alg_roc)):\n",
    "    alg_roc_averages[str(i + 1)] = sum(alg_roc[str(i + 1)])/5\n",
    "\n",
    "print(alg_roc_averages)"
   ]
  },
  {
   "cell_type": "code",
   "execution_count": 10,
   "metadata": {},
   "outputs": [
    {
     "name": "stdout",
     "output_type": "stream",
     "text": [
      "{'1': 0.9781659979150834, '2': 0.9703545324353801, '3': 0.9658869112258381, '4': 0.9431128839246217, '5': 0.9470726210627618}\n"
     ]
    }
   ],
   "source": [
    "# calculate average f1 metric scores per algorithm over 5 trials\n",
    "alg_f1_averages = {}\n",
    "for i in range(len(alg_f1)):\n",
    "    alg_f1_averages[str(i + 1)] = sum(alg_f1[str(i + 1)])/5\n",
    "\n",
    "print(alg_f1_averages)"
   ]
  },
  {
   "cell_type": "code",
   "execution_count": 11,
   "metadata": {},
   "outputs": [
    {
     "name": "stdout",
     "output_type": "stream",
     "text": [
      "{'1': 0.9838328988286777, '2': 0.9773897004078599, '3': 0.9747084736159316, '4': 0.9556980003177918, '5': 0.9597696422981522}\n"
     ]
    }
   ],
   "source": [
    "# calculate average of all 3 metric scores for each algorithm \n",
    "averages = {}\n",
    "for i in range(len(alg_acc_averages)):\n",
    "    averages[str(i + 1)] = (alg_acc_averages[str(i + 1)] + alg_roc_averages[str(i + 1)] + alg_f1_averages[str(i + 1)])/3\n",
    "\n",
    "print(averages)"
   ]
  },
  {
   "cell_type": "code",
   "execution_count": 12,
   "metadata": {},
   "outputs": [
    {
     "name": "stdout",
     "output_type": "stream",
     "text": [
      "Ttest_relResult(statistic=9.488391242469374, pvalue=1.783103793622407e-07)\n",
      "Ttest_relResult(statistic=7.314255242662729, pvalue=3.82457095450185e-06)\n",
      "Ttest_relResult(statistic=11.394423748363014, pvalue=1.812873909233341e-08)\n",
      "Ttest_relResult(statistic=9.31379364409074, pvalue=2.2366945324128233e-07)\n"
     ]
    }
   ],
   "source": [
    "# t-test best against rest mean of metrics (RF against rest)\n",
    "combined_metrics_1 = []\n",
    "combined_metrics_2 = []\n",
    "combined_metrics_3 = []\n",
    "combined_metrics_4 = []\n",
    "combined_metrics_5 = []\n",
    "\n",
    "for item in alg_acc['1']:\n",
    "    combined_metrics_1.append(item)\n",
    "for item in alg_roc['1']:\n",
    "    combined_metrics_1.append(item)\n",
    "for item in alg_f1['1']:\n",
    "    combined_metrics_1.append(item)\n",
    "    \n",
    "for item in alg_acc['2']:\n",
    "    combined_metrics_2.append(item)\n",
    "for item in alg_roc['2']:\n",
    "    combined_metrics_2.append(item)\n",
    "for item in alg_f1['2']:\n",
    "    combined_metrics_2.append(item)\n",
    "\n",
    "for item in alg_acc['3']:\n",
    "    combined_metrics_3.append(item)\n",
    "for item in alg_roc['3']:\n",
    "    combined_metrics_3.append(item)\n",
    "for item in alg_f1['3']:\n",
    "    combined_metrics_3.append(item)\n",
    "    \n",
    "for item in alg_acc['4']:\n",
    "    combined_metrics_4.append(item)\n",
    "for item in alg_roc['4']:\n",
    "    combined_metrics_4.append(item)\n",
    "for item in alg_f1['4']:\n",
    "    combined_metrics_4.append(item)\n",
    "\n",
    "for item in alg_acc['5']:\n",
    "    combined_metrics_5.append(item)\n",
    "for item in alg_roc['5']:\n",
    "    combined_metrics_5.append(item)\n",
    "for item in alg_f1['5']:\n",
    "    combined_metrics_5.append(item)\n",
    "    \n",
    "print(ttest_rel(combined_metrics_1, combined_metrics_2))\n",
    "print(ttest_rel(combined_metrics_1, combined_metrics_3))\n",
    "print(ttest_rel(combined_metrics_1, combined_metrics_4))\n",
    "print(ttest_rel(combined_metrics_1, combined_metrics_5))"
   ]
  }
 ],
 "metadata": {
  "kernelspec": {
   "display_name": "Python 3",
   "language": "python",
   "name": "python3"
  },
  "language_info": {
   "codemirror_mode": {
    "name": "ipython",
    "version": 3
   },
   "file_extension": ".py",
   "mimetype": "text/x-python",
   "name": "python",
   "nbconvert_exporter": "python",
   "pygments_lexer": "ipython3",
   "version": "3.8.5"
  },
  "widgets": {
   "application/vnd.jupyter.widget-state+json": {
    "state": {
     "01c21307533343408925e775cf7c3247": {
      "model_module": "@jupyter-widgets/controls",
      "model_module_version": "1.5.0",
      "model_name": "DescriptionStyleModel",
      "state": {
       "description_width": ""
      }
     },
     "089da772eef9479ab96b3b8169d80a91": {
      "model_module": "@jupyter-widgets/base",
      "model_module_version": "1.2.0",
      "model_name": "LayoutModel",
      "state": {}
     },
     "08b4267978204fa9a033f0cc629b9493": {
      "model_module": "@jupyter-widgets/controls",
      "model_module_version": "1.5.0",
      "model_name": "HTMLModel",
      "state": {
       "layout": "IPY_MODEL_a80285a03d904ee0866f66b706ea52a3",
       "style": "IPY_MODEL_e713a423efc94e5b946cb2c5da7e1f1d",
       "value": " 1/1 [21:06&lt;00:00, 1266.59s/it]"
      }
     },
     "08f3761de301465eab359571cbf77b20": {
      "model_module": "@jupyter-widgets/controls",
      "model_module_version": "1.5.0",
      "model_name": "HBoxModel",
      "state": {
       "children": [
        "IPY_MODEL_d2416a2c3b274366a1daf58e69815974",
        "IPY_MODEL_1a7ddfa443a740f791718d58f9921190",
        "IPY_MODEL_f631b14a988a4575a406e924b3025d8c"
       ],
       "layout": "IPY_MODEL_2a71b30b974e4a0eae8df59016d84011"
      }
     },
     "0a84d4f3bd244f7c8a493c13ec6b1d17": {
      "model_module": "@jupyter-widgets/controls",
      "model_module_version": "1.5.0",
      "model_name": "HTMLModel",
      "state": {
       "layout": "IPY_MODEL_6ff272314e0740d593b4c5b401418eb4",
       "style": "IPY_MODEL_32974a7c192c45b0bdbc55e33a7085a3",
       "value": " 1/1 [30:22&lt;00:00, 1822.21s/it]"
      }
     },
     "0bd82b4cecf945ea93786325029d8e94": {
      "model_module": "@jupyter-widgets/controls",
      "model_module_version": "1.5.0",
      "model_name": "ProgressStyleModel",
      "state": {
       "description_width": ""
      }
     },
     "0d17cc3bfb4d42f194d839133c6465c3": {
      "model_module": "@jupyter-widgets/controls",
      "model_module_version": "1.5.0",
      "model_name": "DescriptionStyleModel",
      "state": {
       "description_width": ""
      }
     },
     "0e0bfe91b352448fa1b68b33c976cbb9": {
      "model_module": "@jupyter-widgets/controls",
      "model_module_version": "1.5.0",
      "model_name": "HBoxModel",
      "state": {
       "children": [
        "IPY_MODEL_395e86de20914dde8d17b1232c00971e",
        "IPY_MODEL_c2f0264230fe405687f3733b3051efc2",
        "IPY_MODEL_9f330be4b70f4b5491efa4b6400c8532"
       ],
       "layout": "IPY_MODEL_5aac2573450540eaac134032c072b1ed"
      }
     },
     "0f6f299ab8e142aa8fc4b1e71c93753f": {
      "model_module": "@jupyter-widgets/controls",
      "model_module_version": "1.5.0",
      "model_name": "HBoxModel",
      "state": {
       "children": [
        "IPY_MODEL_b00b24808075479ba949d11fb06fc0f3",
        "IPY_MODEL_5e91cbcd83d74fbe9581a9820668afc1",
        "IPY_MODEL_0a84d4f3bd244f7c8a493c13ec6b1d17"
       ],
       "layout": "IPY_MODEL_eae01684a8c9462dabb4c058016fc826"
      }
     },
     "1a7ddfa443a740f791718d58f9921190": {
      "model_module": "@jupyter-widgets/controls",
      "model_module_version": "1.5.0",
      "model_name": "FloatProgressModel",
      "state": {
       "bar_style": "success",
       "layout": "IPY_MODEL_2d1dab76e36e440ab198edd0fe9db03c",
       "max": 23,
       "style": "IPY_MODEL_6278414e778045539dc491c065762123",
       "value": 23
      }
     },
     "1c340079c2374d2c8405deff38f1f331": {
      "model_module": "@jupyter-widgets/controls",
      "model_module_version": "1.5.0",
      "model_name": "HTMLModel",
      "state": {
       "layout": "IPY_MODEL_8de03708d4d6470790fc2d68a0026aa2",
       "style": "IPY_MODEL_697f79d16b984feb8b6183c256f0b4d7",
       "value": "Generate report structure: 100%"
      }
     },
     "1f4608eaeeec421dbe72e4d557d77629": {
      "model_module": "@jupyter-widgets/controls",
      "model_module_version": "1.5.0",
      "model_name": "DescriptionStyleModel",
      "state": {
       "description_width": ""
      }
     },
     "230a5ccdbc864e649a61517f7bc8c816": {
      "model_module": "@jupyter-widgets/base",
      "model_module_version": "1.2.0",
      "model_name": "LayoutModel",
      "state": {}
     },
     "26f20cc7c63b4467a248baeb7a28d208": {
      "model_module": "@jupyter-widgets/controls",
      "model_module_version": "1.5.0",
      "model_name": "HBoxModel",
      "state": {
       "children": [
        "IPY_MODEL_3aa93708dc0c421baa7e744fcfbe4401",
        "IPY_MODEL_967168adccbe4759a06ec46b215b463d",
        "IPY_MODEL_b527fa5c73a84737869563e782b50bab"
       ],
       "layout": "IPY_MODEL_a030b93ad03c402894bbc23eb2c5d35b"
      }
     },
     "2a2f47b0f44f4c8489caed63462e6c72": {
      "model_module": "@jupyter-widgets/controls",
      "model_module_version": "1.5.0",
      "model_name": "HBoxModel",
      "state": {
       "children": [
        "IPY_MODEL_cfbf1970b3a14b41a26508c5eb58ae02",
        "IPY_MODEL_761a4d28a7804a63956d4e44478de272",
        "IPY_MODEL_8585e13bdc7d4cbb9c61184502bc1a1f"
       ],
       "layout": "IPY_MODEL_f051ce73fe964d898f8984f5bb422247"
      }
     },
     "2a71b30b974e4a0eae8df59016d84011": {
      "model_module": "@jupyter-widgets/base",
      "model_module_version": "1.2.0",
      "model_name": "LayoutModel",
      "state": {}
     },
     "2c206aa378f34ae0958e204edb096050": {
      "model_module": "@jupyter-widgets/base",
      "model_module_version": "1.2.0",
      "model_name": "LayoutModel",
      "state": {}
     },
     "2d1dab76e36e440ab198edd0fe9db03c": {
      "model_module": "@jupyter-widgets/base",
      "model_module_version": "1.2.0",
      "model_name": "LayoutModel",
      "state": {}
     },
     "2d555d64482b456c9adcd29b89696223": {
      "model_module": "@jupyter-widgets/base",
      "model_module_version": "1.2.0",
      "model_name": "LayoutModel",
      "state": {}
     },
     "2dade244a8584387af7181e484b79630": {
      "model_module": "@jupyter-widgets/controls",
      "model_module_version": "1.5.0",
      "model_name": "ProgressStyleModel",
      "state": {
       "description_width": ""
      }
     },
     "32974a7c192c45b0bdbc55e33a7085a3": {
      "model_module": "@jupyter-widgets/controls",
      "model_module_version": "1.5.0",
      "model_name": "DescriptionStyleModel",
      "state": {
       "description_width": ""
      }
     },
     "3460d318e6f2487aaf86696d34159571": {
      "model_module": "@jupyter-widgets/controls",
      "model_module_version": "1.5.0",
      "model_name": "FloatProgressModel",
      "state": {
       "bar_style": "success",
       "layout": "IPY_MODEL_9ccb32fb999548998d7f850e6a365127",
       "max": 1,
       "style": "IPY_MODEL_6cd1f5aba07e4bbbb7b0220033c38653",
       "value": 1
      }
     },
     "3630aa8e3c324019b2824b79c9d76813": {
      "model_module": "@jupyter-widgets/base",
      "model_module_version": "1.2.0",
      "model_name": "LayoutModel",
      "state": {}
     },
     "3692dce1b4db433193b3ffbe70e2795c": {
      "model_module": "@jupyter-widgets/base",
      "model_module_version": "1.2.0",
      "model_name": "LayoutModel",
      "state": {}
     },
     "36990e083e994cfdb000fae4f83c6344": {
      "model_module": "@jupyter-widgets/base",
      "model_module_version": "1.2.0",
      "model_name": "LayoutModel",
      "state": {}
     },
     "395e86de20914dde8d17b1232c00971e": {
      "model_module": "@jupyter-widgets/controls",
      "model_module_version": "1.5.0",
      "model_name": "HTMLModel",
      "state": {
       "layout": "IPY_MODEL_507b432bbd8c4bbdbe588b05350a256d",
       "style": "IPY_MODEL_db74d292b9b8499eb08729c8d9718966",
       "value": "Render HTML: 100%"
      }
     },
     "3a45f6e87d8b437d844d0ad14742abde": {
      "model_module": "@jupyter-widgets/base",
      "model_module_version": "1.2.0",
      "model_name": "LayoutModel",
      "state": {}
     },
     "3aa93708dc0c421baa7e744fcfbe4401": {
      "model_module": "@jupyter-widgets/controls",
      "model_module_version": "1.5.0",
      "model_name": "HTMLModel",
      "state": {
       "layout": "IPY_MODEL_b3224ccb0cf7494ebadf622613bc9f44",
       "style": "IPY_MODEL_5f5fed6735204cf0a8137ec09e6fb2ac",
       "value": "Summarize dataset: 100%"
      }
     },
     "41e1604ec1c946339a7af8414f3c0b8b": {
      "model_module": "@jupyter-widgets/base",
      "model_module_version": "1.2.0",
      "model_name": "LayoutModel",
      "state": {}
     },
     "41fade93abcc4a6588c4fa35d1239996": {
      "model_module": "@jupyter-widgets/controls",
      "model_module_version": "1.5.0",
      "model_name": "HTMLModel",
      "state": {
       "layout": "IPY_MODEL_b1c5c70c93914868a8776a2c78c0c0c5",
       "style": "IPY_MODEL_1f4608eaeeec421dbe72e4d557d77629",
       "value": " 1/1 [00:02&lt;00:00,  2.21s/it]"
      }
     },
     "451538c9ee0b401dbef1ca10da4b2f16": {
      "model_module": "@jupyter-widgets/base",
      "model_module_version": "1.2.0",
      "model_name": "LayoutModel",
      "state": {}
     },
     "46a706487f2d4da0b166aa3fec4d0e7a": {
      "model_module": "@jupyter-widgets/controls",
      "model_module_version": "1.5.0",
      "model_name": "HTMLModel",
      "state": {
       "layout": "IPY_MODEL_8594ddaa92024ac9b572dadfa2366a7c",
       "style": "IPY_MODEL_0d17cc3bfb4d42f194d839133c6465c3",
       "value": "Summarize dataset: 100%"
      }
     },
     "4892a2dd31584d7f9041b44cff133a8a": {
      "model_module": "@jupyter-widgets/controls",
      "model_module_version": "1.5.0",
      "model_name": "HBoxModel",
      "state": {
       "children": [
        "IPY_MODEL_1c340079c2374d2c8405deff38f1f331",
        "IPY_MODEL_85087b5761404b51a78c68c172c7c965",
        "IPY_MODEL_76fab8909a124ba8892de8a80e1098b6"
       ],
       "layout": "IPY_MODEL_451538c9ee0b401dbef1ca10da4b2f16"
      }
     },
     "49f508c0d232478dbc197935757af15c": {
      "model_module": "@jupyter-widgets/controls",
      "model_module_version": "1.5.0",
      "model_name": "HTMLModel",
      "state": {
       "layout": "IPY_MODEL_bb4c3568d8fa4dcaa617279ad6adcce1",
       "style": "IPY_MODEL_f10ad75c8119455dbbd455df3cf4f579",
       "value": " 23/23 [00:08&lt;00:00,  2.58it/s, Completed]"
      }
     },
     "4a4e66079d884490a654f8494a16a021": {
      "model_module": "@jupyter-widgets/controls",
      "model_module_version": "1.5.0",
      "model_name": "HTMLModel",
      "state": {
       "layout": "IPY_MODEL_55be0f4dbff94633a54d49112cbb5dd6",
       "style": "IPY_MODEL_01c21307533343408925e775cf7c3247",
       "value": "Generate report structure: 100%"
      }
     },
     "505b0a2bf09543bb92d6fd37415ce606": {
      "model_module": "@jupyter-widgets/controls",
      "model_module_version": "1.5.0",
      "model_name": "DescriptionStyleModel",
      "state": {
       "description_width": ""
      }
     },
     "507b432bbd8c4bbdbe588b05350a256d": {
      "model_module": "@jupyter-widgets/base",
      "model_module_version": "1.2.0",
      "model_name": "LayoutModel",
      "state": {}
     },
     "526ccc5e631e43eebb31a84dc70da75c": {
      "model_module": "@jupyter-widgets/base",
      "model_module_version": "1.2.0",
      "model_name": "LayoutModel",
      "state": {}
     },
     "5350286fd65544c1b0e24575221ba8cb": {
      "model_module": "@jupyter-widgets/controls",
      "model_module_version": "1.5.0",
      "model_name": "DescriptionStyleModel",
      "state": {
       "description_width": ""
      }
     },
     "55072310a7d848b8a00aa6edbdf74ba4": {
      "model_module": "@jupyter-widgets/base",
      "model_module_version": "1.2.0",
      "model_name": "LayoutModel",
      "state": {}
     },
     "55be0f4dbff94633a54d49112cbb5dd6": {
      "model_module": "@jupyter-widgets/base",
      "model_module_version": "1.2.0",
      "model_name": "LayoutModel",
      "state": {}
     },
     "59ee561a9bbd495d8105a4338d3c53a4": {
      "model_module": "@jupyter-widgets/base",
      "model_module_version": "1.2.0",
      "model_name": "LayoutModel",
      "state": {}
     },
     "5a08aa9aff05432aa336dfd861b10eca": {
      "model_module": "@jupyter-widgets/base",
      "model_module_version": "1.2.0",
      "model_name": "LayoutModel",
      "state": {}
     },
     "5aac2573450540eaac134032c072b1ed": {
      "model_module": "@jupyter-widgets/base",
      "model_module_version": "1.2.0",
      "model_name": "LayoutModel",
      "state": {}
     },
     "5bb2bcf6d67a40f285b0f3335aacf538": {
      "model_module": "@jupyter-widgets/controls",
      "model_module_version": "1.5.0",
      "model_name": "HTMLModel",
      "state": {
       "layout": "IPY_MODEL_cab52cc1f48b4cbdbd38bf7b872e69f4",
       "style": "IPY_MODEL_a11e5e6f47bd4ca79956ec4b57e28b09",
       "value": " 1/1 [00:01&lt;00:00,  1.83s/it]"
      }
     },
     "5ca246d2757b448095f6a4d6bd878bc1": {
      "model_module": "@jupyter-widgets/base",
      "model_module_version": "1.2.0",
      "model_name": "LayoutModel",
      "state": {}
     },
     "5e91cbcd83d74fbe9581a9820668afc1": {
      "model_module": "@jupyter-widgets/controls",
      "model_module_version": "1.5.0",
      "model_name": "FloatProgressModel",
      "state": {
       "bar_style": "success",
       "layout": "IPY_MODEL_9b0df32b87bd499ca4894e34ec5ec326",
       "max": 1,
       "style": "IPY_MODEL_2dade244a8584387af7181e484b79630",
       "value": 1
      }
     },
     "5f5fed6735204cf0a8137ec09e6fb2ac": {
      "model_module": "@jupyter-widgets/controls",
      "model_module_version": "1.5.0",
      "model_name": "DescriptionStyleModel",
      "state": {
       "description_width": ""
      }
     },
     "60c869a886714441b8fd79f271b8b460": {
      "model_module": "@jupyter-widgets/controls",
      "model_module_version": "1.5.0",
      "model_name": "HBoxModel",
      "state": {
       "children": [
        "IPY_MODEL_aeb9314e64bb41bd81ca3ae70c76c56c",
        "IPY_MODEL_a02d597964214be49badecde99445c8d",
        "IPY_MODEL_c68ebaf9d0534105aef6a9764d4cd670"
       ],
       "layout": "IPY_MODEL_8799dd1a417647f6bfdff4af3e911076"
      }
     },
     "625d58451dca40bf9fae096ba8d0e2c7": {
      "model_module": "@jupyter-widgets/controls",
      "model_module_version": "1.5.0",
      "model_name": "HBoxModel",
      "state": {
       "children": [
        "IPY_MODEL_4a4e66079d884490a654f8494a16a021",
        "IPY_MODEL_f3d3ce5fa23b4ac691984cba4b3f9cb4",
        "IPY_MODEL_08b4267978204fa9a033f0cc629b9493"
       ],
       "layout": "IPY_MODEL_2c206aa378f34ae0958e204edb096050"
      }
     },
     "6278414e778045539dc491c065762123": {
      "model_module": "@jupyter-widgets/controls",
      "model_module_version": "1.5.0",
      "model_name": "ProgressStyleModel",
      "state": {
       "description_width": ""
      }
     },
     "697f79d16b984feb8b6183c256f0b4d7": {
      "model_module": "@jupyter-widgets/controls",
      "model_module_version": "1.5.0",
      "model_name": "DescriptionStyleModel",
      "state": {
       "description_width": ""
      }
     },
     "6cd1f5aba07e4bbbb7b0220033c38653": {
      "model_module": "@jupyter-widgets/controls",
      "model_module_version": "1.5.0",
      "model_name": "ProgressStyleModel",
      "state": {
       "description_width": ""
      }
     },
     "6ff272314e0740d593b4c5b401418eb4": {
      "model_module": "@jupyter-widgets/base",
      "model_module_version": "1.2.0",
      "model_name": "LayoutModel",
      "state": {}
     },
     "702263332ef64d9fa327fe15ee800adc": {
      "model_module": "@jupyter-widgets/controls",
      "model_module_version": "1.5.0",
      "model_name": "FloatProgressModel",
      "state": {
       "bar_style": "success",
       "layout": "IPY_MODEL_c7e5a3224f8f40358cd6095906ca8a18",
       "max": 1,
       "style": "IPY_MODEL_ff27963838664111a9cdbd7d5ed00ce8",
       "value": 1
      }
     },
     "722279d243824f7f8ba7619fbcdf7722": {
      "model_module": "@jupyter-widgets/controls",
      "model_module_version": "1.5.0",
      "model_name": "HBoxModel",
      "state": {
       "children": [
        "IPY_MODEL_bf3c06112caf45bcae10227b70995a98",
        "IPY_MODEL_7ebb24a39dbf473195e929590d22984f",
        "IPY_MODEL_41fade93abcc4a6588c4fa35d1239996"
       ],
       "layout": "IPY_MODEL_743e5ff49c0c4d8a838cd95f754dfdb4"
      }
     },
     "743e5ff49c0c4d8a838cd95f754dfdb4": {
      "model_module": "@jupyter-widgets/base",
      "model_module_version": "1.2.0",
      "model_name": "LayoutModel",
      "state": {}
     },
     "761a4d28a7804a63956d4e44478de272": {
      "model_module": "@jupyter-widgets/controls",
      "model_module_version": "1.5.0",
      "model_name": "FloatProgressModel",
      "state": {
       "bar_style": "success",
       "layout": "IPY_MODEL_089da772eef9479ab96b3b8169d80a91",
       "max": 23,
       "style": "IPY_MODEL_abd403a6de0a4211b318300716ffd328",
       "value": 23
      }
     },
     "76fab8909a124ba8892de8a80e1098b6": {
      "model_module": "@jupyter-widgets/controls",
      "model_module_version": "1.5.0",
      "model_name": "HTMLModel",
      "state": {
       "layout": "IPY_MODEL_526ccc5e631e43eebb31a84dc70da75c",
       "style": "IPY_MODEL_e56db6dad2714df7acc96414cf1cf12d",
       "value": " 1/1 [00:26&lt;00:00, 26.40s/it]"
      }
     },
     "791bac0925dc4816a60950874170610b": {
      "model_module": "@jupyter-widgets/controls",
      "model_module_version": "1.5.0",
      "model_name": "HBoxModel",
      "state": {
       "children": [
        "IPY_MODEL_e00d7390c2e041fd98d0701008c5790f",
        "IPY_MODEL_3460d318e6f2487aaf86696d34159571",
        "IPY_MODEL_5bb2bcf6d67a40f285b0f3335aacf538"
       ],
       "layout": "IPY_MODEL_cd07e5b651444e7c91c695e451572f82"
      }
     },
     "7c533cfc023b4b87a36f536463b37256": {
      "model_module": "@jupyter-widgets/base",
      "model_module_version": "1.2.0",
      "model_name": "LayoutModel",
      "state": {}
     },
     "7ebb24a39dbf473195e929590d22984f": {
      "model_module": "@jupyter-widgets/controls",
      "model_module_version": "1.5.0",
      "model_name": "FloatProgressModel",
      "state": {
       "bar_style": "success",
       "layout": "IPY_MODEL_230a5ccdbc864e649a61517f7bc8c816",
       "max": 1,
       "style": "IPY_MODEL_b369e912b8b242d6980d830c2f205a30",
       "value": 1
      }
     },
     "7fa8f7323e3c4b82a00302f8774b1c70": {
      "model_module": "@jupyter-widgets/controls",
      "model_module_version": "1.5.0",
      "model_name": "HTMLModel",
      "state": {
       "layout": "IPY_MODEL_7c533cfc023b4b87a36f536463b37256",
       "style": "IPY_MODEL_505b0a2bf09543bb92d6fd37415ce606",
       "value": " 1/1 [11:26&lt;00:00, 686.98s/it]"
      }
     },
     "80ffa452f218476fab9ade3cce5cb96d": {
      "model_module": "@jupyter-widgets/controls",
      "model_module_version": "1.5.0",
      "model_name": "DescriptionStyleModel",
      "state": {
       "description_width": ""
      }
     },
     "8183fafead1744e4b475c9d6c1cbe61f": {
      "model_module": "@jupyter-widgets/controls",
      "model_module_version": "1.5.0",
      "model_name": "DescriptionStyleModel",
      "state": {
       "description_width": ""
      }
     },
     "84d1ae98f2ce4f63aee264c0ee8f9964": {
      "model_module": "@jupyter-widgets/controls",
      "model_module_version": "1.5.0",
      "model_name": "HBoxModel",
      "state": {
       "children": [
        "IPY_MODEL_fa9b4c0a2b2640d08d185045dccd51fc",
        "IPY_MODEL_702263332ef64d9fa327fe15ee800adc",
        "IPY_MODEL_7fa8f7323e3c4b82a00302f8774b1c70"
       ],
       "layout": "IPY_MODEL_f1d67aece98345629e3d78d885778dd4"
      }
     },
     "84e61257d1ad417eb480926e8e766fe1": {
      "model_module": "@jupyter-widgets/controls",
      "model_module_version": "1.5.0",
      "model_name": "DescriptionStyleModel",
      "state": {
       "description_width": ""
      }
     },
     "85087b5761404b51a78c68c172c7c965": {
      "model_module": "@jupyter-widgets/controls",
      "model_module_version": "1.5.0",
      "model_name": "FloatProgressModel",
      "state": {
       "bar_style": "success",
       "layout": "IPY_MODEL_3a45f6e87d8b437d844d0ad14742abde",
       "max": 1,
       "style": "IPY_MODEL_0bd82b4cecf945ea93786325029d8e94",
       "value": 1
      }
     },
     "8585e13bdc7d4cbb9c61184502bc1a1f": {
      "model_module": "@jupyter-widgets/controls",
      "model_module_version": "1.5.0",
      "model_name": "HTMLModel",
      "state": {
       "layout": "IPY_MODEL_5a08aa9aff05432aa336dfd861b10eca",
       "style": "IPY_MODEL_8847a83be6e844538f448909662ec180",
       "value": " 23/23 [00:08&lt;00:00,  2.87it/s, Completed]"
      }
     },
     "8594ddaa92024ac9b572dadfa2366a7c": {
      "model_module": "@jupyter-widgets/base",
      "model_module_version": "1.2.0",
      "model_name": "LayoutModel",
      "state": {}
     },
     "8799dd1a417647f6bfdff4af3e911076": {
      "model_module": "@jupyter-widgets/base",
      "model_module_version": "1.2.0",
      "model_name": "LayoutModel",
      "state": {}
     },
     "8847a83be6e844538f448909662ec180": {
      "model_module": "@jupyter-widgets/controls",
      "model_module_version": "1.5.0",
      "model_name": "DescriptionStyleModel",
      "state": {
       "description_width": ""
      }
     },
     "8de03708d4d6470790fc2d68a0026aa2": {
      "model_module": "@jupyter-widgets/base",
      "model_module_version": "1.2.0",
      "model_name": "LayoutModel",
      "state": {}
     },
     "967168adccbe4759a06ec46b215b463d": {
      "model_module": "@jupyter-widgets/controls",
      "model_module_version": "1.5.0",
      "model_name": "FloatProgressModel",
      "state": {
       "bar_style": "success",
       "layout": "IPY_MODEL_3630aa8e3c324019b2824b79c9d76813",
       "max": 24,
       "style": "IPY_MODEL_a1d8b1fa32ae4085915b7c0dca19688a",
       "value": 24
      }
     },
     "97100e7e8a4a4bccb1b716a68f816b26": {
      "model_module": "@jupyter-widgets/base",
      "model_module_version": "1.2.0",
      "model_name": "LayoutModel",
      "state": {}
     },
     "9b0df32b87bd499ca4894e34ec5ec326": {
      "model_module": "@jupyter-widgets/base",
      "model_module_version": "1.2.0",
      "model_name": "LayoutModel",
      "state": {}
     },
     "9ccb32fb999548998d7f850e6a365127": {
      "model_module": "@jupyter-widgets/base",
      "model_module_version": "1.2.0",
      "model_name": "LayoutModel",
      "state": {}
     },
     "9f330be4b70f4b5491efa4b6400c8532": {
      "model_module": "@jupyter-widgets/controls",
      "model_module_version": "1.5.0",
      "model_name": "HTMLModel",
      "state": {
       "layout": "IPY_MODEL_ace6494e23dc4e81adb639b07efac482",
       "style": "IPY_MODEL_5350286fd65544c1b0e24575221ba8cb",
       "value": " 1/1 [12:12&lt;00:00, 732.52s/it]"
      }
     },
     "a02d597964214be49badecde99445c8d": {
      "model_module": "@jupyter-widgets/controls",
      "model_module_version": "1.5.0",
      "model_name": "FloatProgressModel",
      "state": {
       "bar_style": "success",
       "layout": "IPY_MODEL_ac395873a93e4bbba9dab50d5f67d911",
       "max": 1,
       "style": "IPY_MODEL_f0dd4d05a0b747d69452d7bd4d37ea66",
       "value": 1
      }
     },
     "a030b93ad03c402894bbc23eb2c5d35b": {
      "model_module": "@jupyter-widgets/base",
      "model_module_version": "1.2.0",
      "model_name": "LayoutModel",
      "state": {}
     },
     "a11e5e6f47bd4ca79956ec4b57e28b09": {
      "model_module": "@jupyter-widgets/controls",
      "model_module_version": "1.5.0",
      "model_name": "DescriptionStyleModel",
      "state": {
       "description_width": ""
      }
     },
     "a1d8b1fa32ae4085915b7c0dca19688a": {
      "model_module": "@jupyter-widgets/controls",
      "model_module_version": "1.5.0",
      "model_name": "ProgressStyleModel",
      "state": {
       "description_width": ""
      }
     },
     "a3f02815a774455aad7fa9248bfab5e2": {
      "model_module": "@jupyter-widgets/controls",
      "model_module_version": "1.5.0",
      "model_name": "DescriptionStyleModel",
      "state": {
       "description_width": ""
      }
     },
     "a80285a03d904ee0866f66b706ea52a3": {
      "model_module": "@jupyter-widgets/base",
      "model_module_version": "1.2.0",
      "model_name": "LayoutModel",
      "state": {}
     },
     "a83cf39122974a5ca0dcd2143f7895d9": {
      "model_module": "@jupyter-widgets/controls",
      "model_module_version": "1.5.0",
      "model_name": "DescriptionStyleModel",
      "state": {
       "description_width": ""
      }
     },
     "a890df34e61c49758dc582cc3c726b18": {
      "model_module": "@jupyter-widgets/base",
      "model_module_version": "1.2.0",
      "model_name": "LayoutModel",
      "state": {}
     },
     "abd403a6de0a4211b318300716ffd328": {
      "model_module": "@jupyter-widgets/controls",
      "model_module_version": "1.5.0",
      "model_name": "ProgressStyleModel",
      "state": {
       "description_width": ""
      }
     },
     "ac395873a93e4bbba9dab50d5f67d911": {
      "model_module": "@jupyter-widgets/base",
      "model_module_version": "1.2.0",
      "model_name": "LayoutModel",
      "state": {}
     },
     "ace6494e23dc4e81adb639b07efac482": {
      "model_module": "@jupyter-widgets/base",
      "model_module_version": "1.2.0",
      "model_name": "LayoutModel",
      "state": {}
     },
     "ad3111d0fb014e7ebf9921a39504dbd9": {
      "model_module": "@jupyter-widgets/controls",
      "model_module_version": "1.5.0",
      "model_name": "DescriptionStyleModel",
      "state": {
       "description_width": ""
      }
     },
     "aeb9314e64bb41bd81ca3ae70c76c56c": {
      "model_module": "@jupyter-widgets/controls",
      "model_module_version": "1.5.0",
      "model_name": "HTMLModel",
      "state": {
       "layout": "IPY_MODEL_59ee561a9bbd495d8105a4338d3c53a4",
       "style": "IPY_MODEL_8183fafead1744e4b475c9d6c1cbe61f",
       "value": "Generate report structure: 100%"
      }
     },
     "afd7518688c6492598e0d3f169a105fc": {
      "model_module": "@jupyter-widgets/controls",
      "model_module_version": "1.5.0",
      "model_name": "HBoxModel",
      "state": {
       "children": [
        "IPY_MODEL_46a706487f2d4da0b166aa3fec4d0e7a",
        "IPY_MODEL_be55c5228039419e851082c56e7eb4dd",
        "IPY_MODEL_49f508c0d232478dbc197935757af15c"
       ],
       "layout": "IPY_MODEL_cb79392a2e044cbf8fc4be619818417c"
      }
     },
     "b00b24808075479ba949d11fb06fc0f3": {
      "model_module": "@jupyter-widgets/controls",
      "model_module_version": "1.5.0",
      "model_name": "HTMLModel",
      "state": {
       "layout": "IPY_MODEL_97100e7e8a4a4bccb1b716a68f816b26",
       "style": "IPY_MODEL_a3f02815a774455aad7fa9248bfab5e2",
       "value": "Generate report structure: 100%"
      }
     },
     "b040b9c669be4f3ba67944602f940cbe": {
      "model_module": "@jupyter-widgets/controls",
      "model_module_version": "1.5.0",
      "model_name": "ProgressStyleModel",
      "state": {
       "description_width": ""
      }
     },
     "b1c5c70c93914868a8776a2c78c0c0c5": {
      "model_module": "@jupyter-widgets/base",
      "model_module_version": "1.2.0",
      "model_name": "LayoutModel",
      "state": {}
     },
     "b3224ccb0cf7494ebadf622613bc9f44": {
      "model_module": "@jupyter-widgets/base",
      "model_module_version": "1.2.0",
      "model_name": "LayoutModel",
      "state": {}
     },
     "b369e912b8b242d6980d830c2f205a30": {
      "model_module": "@jupyter-widgets/controls",
      "model_module_version": "1.5.0",
      "model_name": "ProgressStyleModel",
      "state": {
       "description_width": ""
      }
     },
     "b527fa5c73a84737869563e782b50bab": {
      "model_module": "@jupyter-widgets/controls",
      "model_module_version": "1.5.0",
      "model_name": "HTMLModel",
      "state": {
       "layout": "IPY_MODEL_2d555d64482b456c9adcd29b89696223",
       "style": "IPY_MODEL_84e61257d1ad417eb480926e8e766fe1",
       "value": " 24/24 [00:13&lt;00:00,  1.74it/s, Completed]"
      }
     },
     "bb4c3568d8fa4dcaa617279ad6adcce1": {
      "model_module": "@jupyter-widgets/base",
      "model_module_version": "1.2.0",
      "model_name": "LayoutModel",
      "state": {}
     },
     "be55c5228039419e851082c56e7eb4dd": {
      "model_module": "@jupyter-widgets/controls",
      "model_module_version": "1.5.0",
      "model_name": "FloatProgressModel",
      "state": {
       "bar_style": "success",
       "layout": "IPY_MODEL_5ca246d2757b448095f6a4d6bd878bc1",
       "max": 23,
       "style": "IPY_MODEL_fbcccf85471a4818b556c71d298520fa",
       "value": 23
      }
     },
     "bf3c06112caf45bcae10227b70995a98": {
      "model_module": "@jupyter-widgets/controls",
      "model_module_version": "1.5.0",
      "model_name": "HTMLModel",
      "state": {
       "layout": "IPY_MODEL_fd79da49a6a3444e80bad39893af3765",
       "style": "IPY_MODEL_c80e75fb2ff34bfd94c8488936bf1e04",
       "value": "Render HTML: 100%"
      }
     },
     "c2f0264230fe405687f3733b3051efc2": {
      "model_module": "@jupyter-widgets/controls",
      "model_module_version": "1.5.0",
      "model_name": "FloatProgressModel",
      "state": {
       "bar_style": "success",
       "layout": "IPY_MODEL_55072310a7d848b8a00aa6edbdf74ba4",
       "max": 1,
       "style": "IPY_MODEL_b040b9c669be4f3ba67944602f940cbe",
       "value": 1
      }
     },
     "c68ebaf9d0534105aef6a9764d4cd670": {
      "model_module": "@jupyter-widgets/controls",
      "model_module_version": "1.5.0",
      "model_name": "HTMLModel",
      "state": {
       "layout": "IPY_MODEL_3692dce1b4db433193b3ffbe70e2795c",
       "style": "IPY_MODEL_eb274e63b5074816b068aa444bff2336",
       "value": " 1/1 [32:40&lt;00:00, 1960.26s/it]"
      }
     },
     "c7e5a3224f8f40358cd6095906ca8a18": {
      "model_module": "@jupyter-widgets/base",
      "model_module_version": "1.2.0",
      "model_name": "LayoutModel",
      "state": {}
     },
     "c80e75fb2ff34bfd94c8488936bf1e04": {
      "model_module": "@jupyter-widgets/controls",
      "model_module_version": "1.5.0",
      "model_name": "DescriptionStyleModel",
      "state": {
       "description_width": ""
      }
     },
     "cab52cc1f48b4cbdbd38bf7b872e69f4": {
      "model_module": "@jupyter-widgets/base",
      "model_module_version": "1.2.0",
      "model_name": "LayoutModel",
      "state": {}
     },
     "cb79392a2e044cbf8fc4be619818417c": {
      "model_module": "@jupyter-widgets/base",
      "model_module_version": "1.2.0",
      "model_name": "LayoutModel",
      "state": {}
     },
     "cc6bb00d467c474780b464c8a7bb78df": {
      "model_module": "@jupyter-widgets/base",
      "model_module_version": "1.2.0",
      "model_name": "LayoutModel",
      "state": {}
     },
     "cd07e5b651444e7c91c695e451572f82": {
      "model_module": "@jupyter-widgets/base",
      "model_module_version": "1.2.0",
      "model_name": "LayoutModel",
      "state": {}
     },
     "cfa58a248b1f4bfdaa0619cfc90268c7": {
      "model_module": "@jupyter-widgets/controls",
      "model_module_version": "1.5.0",
      "model_name": "DescriptionStyleModel",
      "state": {
       "description_width": ""
      }
     },
     "cfbf1970b3a14b41a26508c5eb58ae02": {
      "model_module": "@jupyter-widgets/controls",
      "model_module_version": "1.5.0",
      "model_name": "HTMLModel",
      "state": {
       "layout": "IPY_MODEL_ecd6cf187b77443f9d518ab778950a68",
       "style": "IPY_MODEL_a83cf39122974a5ca0dcd2143f7895d9",
       "value": "Summarize dataset: 100%"
      }
     },
     "d2416a2c3b274366a1daf58e69815974": {
      "model_module": "@jupyter-widgets/controls",
      "model_module_version": "1.5.0",
      "model_name": "HTMLModel",
      "state": {
       "layout": "IPY_MODEL_41e1604ec1c946339a7af8414f3c0b8b",
       "style": "IPY_MODEL_ad3111d0fb014e7ebf9921a39504dbd9",
       "value": "Summarize dataset: 100%"
      }
     },
     "d71248f7e31a474c8b3247b02038f11b": {
      "model_module": "@jupyter-widgets/controls",
      "model_module_version": "1.5.0",
      "model_name": "DescriptionStyleModel",
      "state": {
       "description_width": ""
      }
     },
     "d949ee61fb6a4635821ad165249c32fb": {
      "model_module": "@jupyter-widgets/base",
      "model_module_version": "1.2.0",
      "model_name": "LayoutModel",
      "state": {}
     },
     "db74d292b9b8499eb08729c8d9718966": {
      "model_module": "@jupyter-widgets/controls",
      "model_module_version": "1.5.0",
      "model_name": "DescriptionStyleModel",
      "state": {
       "description_width": ""
      }
     },
     "e00d7390c2e041fd98d0701008c5790f": {
      "model_module": "@jupyter-widgets/controls",
      "model_module_version": "1.5.0",
      "model_name": "HTMLModel",
      "state": {
       "layout": "IPY_MODEL_cc6bb00d467c474780b464c8a7bb78df",
       "style": "IPY_MODEL_d71248f7e31a474c8b3247b02038f11b",
       "value": "Render HTML: 100%"
      }
     },
     "e20e3839ae974f4ba5bd20aea8377b58": {
      "model_module": "@jupyter-widgets/controls",
      "model_module_version": "1.5.0",
      "model_name": "ProgressStyleModel",
      "state": {
       "description_width": ""
      }
     },
     "e56db6dad2714df7acc96414cf1cf12d": {
      "model_module": "@jupyter-widgets/controls",
      "model_module_version": "1.5.0",
      "model_name": "DescriptionStyleModel",
      "state": {
       "description_width": ""
      }
     },
     "e713a423efc94e5b946cb2c5da7e1f1d": {
      "model_module": "@jupyter-widgets/controls",
      "model_module_version": "1.5.0",
      "model_name": "DescriptionStyleModel",
      "state": {
       "description_width": ""
      }
     },
     "eae01684a8c9462dabb4c058016fc826": {
      "model_module": "@jupyter-widgets/base",
      "model_module_version": "1.2.0",
      "model_name": "LayoutModel",
      "state": {}
     },
     "eb274e63b5074816b068aa444bff2336": {
      "model_module": "@jupyter-widgets/controls",
      "model_module_version": "1.5.0",
      "model_name": "DescriptionStyleModel",
      "state": {
       "description_width": ""
      }
     },
     "ecd6cf187b77443f9d518ab778950a68": {
      "model_module": "@jupyter-widgets/base",
      "model_module_version": "1.2.0",
      "model_name": "LayoutModel",
      "state": {}
     },
     "f051ce73fe964d898f8984f5bb422247": {
      "model_module": "@jupyter-widgets/base",
      "model_module_version": "1.2.0",
      "model_name": "LayoutModel",
      "state": {}
     },
     "f0dd4d05a0b747d69452d7bd4d37ea66": {
      "model_module": "@jupyter-widgets/controls",
      "model_module_version": "1.5.0",
      "model_name": "ProgressStyleModel",
      "state": {
       "description_width": ""
      }
     },
     "f10ad75c8119455dbbd455df3cf4f579": {
      "model_module": "@jupyter-widgets/controls",
      "model_module_version": "1.5.0",
      "model_name": "DescriptionStyleModel",
      "state": {
       "description_width": ""
      }
     },
     "f1d67aece98345629e3d78d885778dd4": {
      "model_module": "@jupyter-widgets/base",
      "model_module_version": "1.2.0",
      "model_name": "LayoutModel",
      "state": {}
     },
     "f3d3ce5fa23b4ac691984cba4b3f9cb4": {
      "model_module": "@jupyter-widgets/controls",
      "model_module_version": "1.5.0",
      "model_name": "FloatProgressModel",
      "state": {
       "bar_style": "success",
       "layout": "IPY_MODEL_a890df34e61c49758dc582cc3c726b18",
       "max": 1,
       "style": "IPY_MODEL_e20e3839ae974f4ba5bd20aea8377b58",
       "value": 1
      }
     },
     "f631b14a988a4575a406e924b3025d8c": {
      "model_module": "@jupyter-widgets/controls",
      "model_module_version": "1.5.0",
      "model_name": "HTMLModel",
      "state": {
       "layout": "IPY_MODEL_36990e083e994cfdb000fae4f83c6344",
       "style": "IPY_MODEL_80ffa452f218476fab9ade3cce5cb96d",
       "value": " 23/23 [00:09&lt;00:00,  2.54it/s, Completed]"
      }
     },
     "fa9b4c0a2b2640d08d185045dccd51fc": {
      "model_module": "@jupyter-widgets/controls",
      "model_module_version": "1.5.0",
      "model_name": "HTMLModel",
      "state": {
       "layout": "IPY_MODEL_d949ee61fb6a4635821ad165249c32fb",
       "style": "IPY_MODEL_cfa58a248b1f4bfdaa0619cfc90268c7",
       "value": "Render HTML: 100%"
      }
     },
     "fbcccf85471a4818b556c71d298520fa": {
      "model_module": "@jupyter-widgets/controls",
      "model_module_version": "1.5.0",
      "model_name": "ProgressStyleModel",
      "state": {
       "description_width": ""
      }
     },
     "fd79da49a6a3444e80bad39893af3765": {
      "model_module": "@jupyter-widgets/base",
      "model_module_version": "1.2.0",
      "model_name": "LayoutModel",
      "state": {}
     },
     "ff27963838664111a9cdbd7d5ed00ce8": {
      "model_module": "@jupyter-widgets/controls",
      "model_module_version": "1.5.0",
      "model_name": "ProgressStyleModel",
      "state": {
       "description_width": ""
      }
     }
    },
    "version_major": 2,
    "version_minor": 0
   }
  }
 },
 "nbformat": 4,
 "nbformat_minor": 4
}
